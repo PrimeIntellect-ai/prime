{
 "cells": [
  {
   "cell_type": "code",
   "execution_count": 1,
   "id": "495e4800-4cbc-4975-a915-f740ece8eddc",
   "metadata": {},
   "outputs": [],
   "source": [
    "import pyarrow.parquet as pq\n",
    "import os"
   ]
  },
  {
   "cell_type": "code",
   "execution_count": 2,
   "id": "8449146c-c171-4d5f-8b53-32684536e415",
   "metadata": {},
   "outputs": [],
   "source": [
    "\n",
    "# Method 1: Read entire file into a Table\n",
    "table = pq.read_table(\"data0/train-00000.parquet\")\n"
   ]
  },
  {
   "cell_type": "code",
   "execution_count": 6,
   "id": "273411f2-6714-4b20-95b3-9a876c096556",
   "metadata": {},
   "outputs": [],
   "source": [
    "ds = pq.ParquetDataset([os.path.join(\"data0\", f) for f in os.listdir(\"data0\")], memory_map=True)"
   ]
  },
  {
   "cell_type": "code",
   "execution_count": 7,
   "id": "c4ef983d-86a2-4fff-bcad-7501a260a5b1",
   "metadata": {},
   "outputs": [
    {
     "data": {
      "text/plain": [
       "text: string\n",
       "-- schema metadata --\n",
       "huggingface: '{\"info\": {\"features\": {\"text\": {\"dtype\": \"string\", \"_type\":' + 12"
      ]
     },
     "execution_count": 7,
     "metadata": {},
     "output_type": "execute_result"
    }
   ],
   "source": [
    "ds.schema"
   ]
  },
  {
   "cell_type": "code",
   "execution_count": 8,
   "id": "412f2c4a-feca-4e98-a9e0-0d65d06020a3",
   "metadata": {},
   "outputs": [],
   "source": [
    "table = ds.read()"
   ]
  },
  {
   "cell_type": "code",
   "execution_count": 15,
   "id": "56dd0338-a139-465e-b8be-7536ccba2978",
   "metadata": {},
   "outputs": [
    {
     "data": {
      "text/plain": [
       "400000"
      ]
     },
     "execution_count": 15,
     "metadata": {},
     "output_type": "execute_result"
    }
   ],
   "source": [
    "len(table)"
   ]
  },
  {
   "cell_type": "code",
   "execution_count": 16,
   "id": "feaab25a-36c5-40db-a0f3-c2264fd024cd",
   "metadata": {},
   "outputs": [
    {
     "data": {
      "text/plain": [
       "400000"
      ]
     },
     "execution_count": 16,
     "metadata": {},
     "output_type": "execute_result"
    }
   ],
   "source": [
    "table.num_rows"
   ]
  },
  {
   "cell_type": "code",
   "execution_count": 21,
   "id": "79b36ada-8a63-4f0c-b532-bd232add7ff3",
   "metadata": {},
   "outputs": [
    {
     "data": {
      "text/plain": [
       "'MIDI: The Musical Language of the Digital Age\\nMIDI (Musical Instrument Digital Interface) is a standard that allows electronic musical instruments, computers, and other devices to communicate with each other. It was developed in the early 1980s, and has since become the de facto standard for digital music production.\\nMIDI is not a recording format, like WAV or MP3. Instead, it is a way of sending instructions from one device to another. These instructions can include things like note pitches, velocity, and duration. MIDI data can be recorded and played back on a computer, or it can be sent directly to a synthesizer or other MIDI-compatible device.\\nMIDI has revolutionized the way music is made. It allows musicians to create complex arrangements and sounds without having to be skilled in traditional music notation. It also makes it possible to collaborate on music projects with musicians from all over the world.\\n6 benefits of using MIDI\\n- MIDI is a universal language. MIDI is supported by virtually all electronic musical instruments and computers, making it easy to connect different devices and create music.\\n- MIDI is versatile. MIDI can be used to control a wide variety of synthesizers, samplers, and other electronic instruments. This makes it possible to create a wide range of sounds and effects.\\n- MIDI is easy to use. MIDI is a simple protocol that can be learned quickly. This makes it a great option for beginners who are just starting to learn about music production.\\n- MIDI is efficient. MIDI data is small and compact, making it easy to share and store. This makes it a great option for collaborating with other musicians or sharing your music online.\\n- MIDI is future-proof. MIDI is a standard that has been around for decades and is still widely used today. This means that your MIDI files will be compatible with future music production software and hardware.\\n- MIDI is affordable. MIDI is a very affordable way to create and produce music. You can get started with MIDI for just a few dollars.\\nVirtual Instruments: The Power of Creation\\nVirtual instruments are software synthesizers that can be used to create a wide variety of sounds. They are typically used in conjunction with MIDI controllers to allow musicians to play and control them in real time.\\nVirtual instruments offer a number of advantages over traditional hardware synthesizers. They are typically more affordable, easier to use, and more versatile. They also allow musicians to create sounds that would be impossible to produce with a physical synthesizer.\\nFrom highly accessible options to a more virtuoso approach MIDI instruments are the future of music Production Integration with Music Software As discussed earlier MIDI controllers can seamlessly integrate with popular music Production software and all DAWs remember those With some tools connecting via bluetooth students are free to This guide will give you everything you need to know for making MIDI a powerful part of your processfrom basic MIDI connections to using MIDI effectively in your music Production workflow If youre already using MIDI Ill also cover some useful tips to help you get the most out of your current setupVSTis are separate to VSTfx in that they do no alter sounds they generate sounds Generally using MIDI input data to recognize and recreate melodies and musical tones\\nthese instruments often work both as the primary plugin on a DAW Digital Audio Workstation software track or as a standalone program on your computerStep 1 Install the software on your computer and connect any hardware controllers you plan to use Step 2 Open your DAW and navigate to the plugins section Locate and open the VIP plugin Step 3 Once the VIP plugin is open you will see a browser window that displays your plugin and virtual instrument libraryWhat is a VST The basics of Virtual Studio Technology amp how it integrates with your DAW The significance of VST plugins and their myriad types The beauty of VST instruments and the different versions available An indepth look at VST effects Pro tips to help you make the most out of your VST pluginsWhat is a DAW Now that you have your\\nBeyerdynamic M90 PRO X microphone youll need to send the signal to your DAW Because digital audio workstation DAW is about seven syllables too many most people just say DAWMIDI is a method of sending data that allows you to create music digitally It doesnt matter if you are a bedroom producer or a Grammy Award winner MIDI will play a big part in your working life In this article we will go into more detail about what MIDI is how it works and how to use itNo matter your skill level find your creative outlet with our free song maker and beatmaking app Enter our multitrack Studio an intuitive Digital Audio Workstation DAW to record edit and remix your music Easily record music on the go or build a beat with loops and samples from our royaltyfree sound packs\\n6 benefits of using virtual instruments\\n- Virtual instruments are affordable. Virtual instruments are typically much more affordable than hardware synthesizers. This makes them a great option for budget-minded musicians.\\n- Virtual instruments are easy to use. Virtual instruments are typically very easy to use, even for beginners. This makes them a great way to get started with music production.\\n- Virtual instruments are versatile. Virtual instruments can be used to create a wide variety of sounds. This makes them a great option for musicians of all genres.\\n- Virtual instruments are portable. Virtual instruments can be used on any computer with a sound card. This makes them a great option for musicians who need to be able to create music on the go.\\n- Virtual instruments are constantly evolving. New virtual instruments are being released all the time. This means that musicians always have access to the latest and greatest sounds.\\n- Virtual instruments are compatible with any DAW. Virtual instruments can be used with any digital audio workstation (DAW). This makes them a great option for musicians who already have a DAW that they like.\\nMIDI and virtual instruments have revolutionized the way music is made. They have made it possible for anyone to create music, regardless of their skill level or budget. They have also opened up new possibilities for collaboration and creativity. If you are interested in getting started with music production, MIDI and virtual instruments are a great place to start.'"
      ]
     },
     "execution_count": 21,
     "metadata": {},
     "output_type": "execute_result"
    }
   ],
   "source": [
    "table[\"text\"][4000]"
   ]
  },
  {
   "cell_type": "code",
   "execution_count": null,
   "id": "68723e22-4c0e-4592-bfe4-4e1d8e43610b",
   "metadata": {},
   "outputs": [],
   "source": []
  }
 ],
 "metadata": {
  "kernelspec": {
   "display_name": "Python 3 (ipykernel)",
   "language": "python",
   "name": "python3"
  },
  "language_info": {
   "codemirror_mode": {
    "name": "ipython",
    "version": 3
   },
   "file_extension": ".py",
   "mimetype": "text/x-python",
   "name": "python",
   "nbconvert_exporter": "python",
   "pygments_lexer": "ipython3",
   "version": "3.10.12"
  }
 },
 "nbformat": 4,
 "nbformat_minor": 5
}
