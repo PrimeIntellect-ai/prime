{
 "cells": [
  {
   "cell_type": "code",
   "execution_count": null,
   "id": "1debb269-364f-4839-ac80-7383e5896d79",
   "metadata": {},
   "outputs": [],
   "source": [
    "import torch\n",
    "from transformers import AutoTokenizer\n",
    "from zeroband.models.llama import get_model\n",
    "from zeroband.checkpoint import ModelWrapper\n",
    "import torch.distributed.checkpoint as dcp\n",
    "\n",
    "tokenizer = AutoTokenizer.from_pretrained(\"meta-llama/Meta-Llama-3-8B\", use_fast=True)\n"
   ]
  },
  {
   "cell_type": "code",
   "execution_count": null,
   "id": "44fe98a3-ef41-4c20-9503-d032c5d6868c",
   "metadata": {},
   "outputs": [],
   "source": [
    "tok"
   ]
  }
 ],
 "metadata": {
  "kernelspec": {
   "display_name": "Python 3 (ipykernel)",
   "language": "python",
   "name": "python3"
  },
  "language_info": {
   "codemirror_mode": {
    "name": "ipython",
    "version": 3
   },
   "file_extension": ".py",
   "mimetype": "text/x-python",
   "name": "python",
   "nbconvert_exporter": "python",
   "pygments_lexer": "ipython3",
   "version": "3.10.12"
  }
 },
 "nbformat": 4,
 "nbformat_minor": 5
}
